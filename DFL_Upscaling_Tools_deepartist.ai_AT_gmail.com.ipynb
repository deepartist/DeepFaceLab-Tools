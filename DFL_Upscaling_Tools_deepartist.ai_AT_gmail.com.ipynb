{
  "nbformat": 4,
  "nbformat_minor": 0,
  "metadata": {
    "colab": {
      "name": "DFL-Upscaling-Tools_deepartist.ai@gmail.com.ipynb",
      "private_outputs": true,
      "provenance": [],
      "collapsed_sections": []
    },
    "kernelspec": {
      "name": "python3",
      "display_name": "Python 3"
    },
    "language_info": {
      "name": "python"
    },
    "accelerator": "GPU"
  },
  "cells": [
    {
      "cell_type": "markdown",
      "metadata": {
        "id": "view-in-github",
        "colab_type": "text"
      },
      "source": [
        "<a href=\"https://colab.research.google.com/github/deepartist/DeepFaceLab-Tools/blob/main/DFL_Upscaling_Tools_deepartist.ai_AT_gmail.com.ipynb\" target=\"_parent\"><img src=\"https://colab.research.google.com/assets/colab-badge.svg\" alt=\"Open In Colab\"/></a>"
      ]
    },
    {
      "cell_type": "markdown",
      "metadata": {
        "id": "7TLDy5mi1rid"
      },
      "source": [
        "# **Collection DeepFaceLab Upscaling Tools by deepartist**\n",
        "\n",
        "## **Sources:** \n",
        "* ## GPEN\n",
        "[bycloud - youtube channel](https://www.youtube.com/channel/UCfg9ux4m8P0YDITTPptrmLg) and \n",
        "[Code]( https://github.com/bycloudai/GPEN-colab)\n",
        "\n",
        "* ## GFPGAN - Towards Real-World Blind Face Restoration with Generative Facial Prior\n",
        "[Paper](https://arxiv.org/abs/2101.04061) \n",
        "[Project Page](https://xinntao.github.io/projects/gfpgan)\n",
        "[colab](https://colab.research.google.com/drive/1sVsoBd9AjckIXThgtZhGrHRfFI6UUYOo)\n",
        "\n",
        "* ## Progressive Semantic-Aware Style Transformation for Blind Face Restoration\n",
        " [Code](https://github.com/chaofengc/PSFRGAN)\n",
        " [Paper](https://arxiv.org/abs/2009.08709)\n",
        " [Colab](https://gist.github.com/woctezuma/20e4dd3d49da09bf339d909f29c5527e)\n",
        "\n",
        "\n",
        "\n",
        "Based on the upscaling Notebook of [Tendeepfake](mailto:tendeepfake@gmail.com\n",
        ")\n",
        "## *There is no need for colab pro to use it.*\n",
        "\n",
        "[Contact me: deepartist](mailto:deepartist.ai@gmail.com)"
      ]
    },
    {
      "cell_type": "markdown",
      "metadata": {
        "id": "EIslFaZkvu_f"
      },
      "source": [
        "\n",
        "\n",
        "---\n",
        "\n"
      ]
    },
    {
      "cell_type": "markdown",
      "metadata": {
        "id": "P0sb1Ng6mGch"
      },
      "source": [
        "# Install"
      ]
    },
    {
      "cell_type": "code",
      "metadata": {
        "id": "Q-Mn4xJsOqdL",
        "cellView": "form"
      },
      "source": [
        "#@title Check if you have loaded GPU\n",
        "gpu = !nvidia-smi -L\n",
        "gpu= gpu[0]\n",
        "gpu_mem = !nvidia-smi --query-gpu=memory.total --format=csv\n",
        "gpu_mem = gpu_mem[1]\n",
        "gpu_mem_free = !nvidia-smi --query-gpu=memory.free --format=csv\n",
        "gpu_mem_free = gpu_mem_free[1]\n",
        "cores = !grep -c ^processor /proc/cpuinfo\n",
        "cores = cores[0]\n",
        "mhz = !grep \"^[c]pu MHz\" /proc/cpuinfo\n",
        "mhz = mhz[0].split(\":\")[-1]\n",
        "mhz\n",
        "!echo \"$gpu\"\n",
        "!echo Total Memory: \"$gpu_mem\" Free: \"$gpu_mem_free\"\n",
        "!echo CPU: \"$cores\" cores @\"$mhz\" MHz"
      ],
      "execution_count": null,
      "outputs": []
    },
    {
      "cell_type": "markdown",
      "metadata": {
        "id": "IRFCT4eYcMXr"
      },
      "source": [
        "**Mount your Google drive with auth key**\n",
        "\n",
        "1. Connect to your google drive to be able to import and export files to/from google drive\n",
        "2. Click on Link below\n",
        "3. Login and confirm\n",
        "4. Ctrl+V auth key and hit return key\n",
        "\n",
        "**OR mount your Google drive permantly**\n",
        "\n",
        "1. Create new notebook\n",
        "2. Change runtime to GPU\n",
        "3. Click on files, and mount your google drive permantly \n",
        "4. Click in first cell\n",
        "5. Select all cells with shift+down\n",
        "6. Copy all cells from this notebook\n",
        "7. No more auth token coyping\n",
        "\n",
        "**OR SIMPLY SKIP** if you dont want import and export files to/from google drive"
      ]
    },
    {
      "cell_type": "code",
      "metadata": {
        "id": "O2Dlj_TnVLFs",
        "cellView": "form"
      },
      "source": [
        "#@title Connect to your gdrive IF you not have permantly mount it\n",
        "\n",
        "from google.colab import drive\n",
        "drive.mount('/content/drive')"
      ],
      "execution_count": null,
      "outputs": []
    },
    {
      "cell_type": "code",
      "metadata": {
        "id": "aml4kb1ZHSPK",
        "cellView": "form"
      },
      "source": [
        "#@title Clone DFL Git and install needed dependencies\n",
        "!git clone https://github.com/iperov/DeepFaceLab.git /content/DeepFaceLab\n",
        "!pip install colorama\n",
        "print(\"\\nDone\")"
      ],
      "execution_count": null,
      "outputs": []
    },
    {
      "cell_type": "code",
      "metadata": {
        "id": "RRJhu6qnmh_1",
        "cellView": "form"
      },
      "source": [
        "#@title Install all dependencies and download weights from org repo\n",
        "\n",
        "upscaling_method = \"GPEN\" #@param [\"GPEN\", \"GFPGAN\", \"PSFR-GAN\"]\n",
        "\n",
        "!echo $upscaling_method > /content/upscaling_method\n",
        "\n",
        "if upscaling_method == \"GPEN\":\n",
        "  %cd /content\n",
        "  !git clone https://github.com/bycloudai/GPEN\n",
        "  !wget https://github.com/deepartist/DeepFaceLab-Tools/releases/download/v1.0.0/RetinaFace-R50.pth && mv RetinaFace-R50.pth GPEN/weights/\n",
        "  !wget https://github.com/deepartist/DeepFaceLab-Tools/releases/download/v1.0.0/GPEN-512.pth && mv GPEN-512.pth GPEN/weights/\n",
        "  #!wget https://github.com/deepartist/DeepFaceLab-Tools/releases/download/v1.0.0/GPEN-1024-Color.pth && mv GPEN-1024-Color.pth GPEN/weights/\n",
        "  !pip install torch==1.7.1 torchvision==0.8.2 torchaudio==0.7.2\n",
        "  !pip install pip install opencv-python\n",
        "  %cd GPEN\n",
        "  !wget https://github.com/ninja-build/ninja/releases/download/v1.8.2/ninja-linux.zip\n",
        "  !sudo unzip ninja-linux.zip -d /usr/local/bin/\n",
        "  !sudo update-alternatives --install /usr/bin/ninja ninja /usr/local/bin/ninja 1 --force\n",
        "  !touch \"/content/GPEN/__init__.py\"\n",
        "elif upscaling_method == \"GFPGAN\":\n",
        "  %cd /content\n",
        "  # Install basicsr - https://github.com/xinntao/BasicSR\n",
        "  # We use BasicSR for both training and inference. \n",
        "  # Set BASICSR_EXT=True to compile the cuda extensions in the BasicSR - It may take several minutes to compile, please be patient.\n",
        "  !BASICSR_EXT=True pip install basicsr\n",
        "\n",
        "  # Install facexlib - https://github.com/xinntao/facexlib\n",
        "  # We use face detection and face restoration helper in the facexlib package\n",
        "  !pip install facexlib\n",
        "  !mkdir -p /usr/local/lib/python3.7/dist-packages/facexlib/weights  # for pre-trained models\n",
        "\n",
        "  !rm -rf GFPGAN\n",
        "  !git clone https://github.com/TencentARC/GFPGAN.git\n",
        "  %cd /content/GFPGAN\n",
        "\n",
        "  # install extra requirements\n",
        "  !pip install -r requirements.txt\n",
        "  !wget https://github.com/deepartist/DeepFaceLab-Tools/releases/download/v1.0.1/GFPGANv1.pth -P experiments/pretrained_models\n",
        "\n",
        "elif upscaling_method == \"PSFR-GAN\":\n",
        "  %cd /content\n",
        "  !git clone https://github.com/chaofengc/PSFR-GAN.git\n",
        "  %cd /content/PSFR-GAN\n",
        "  !wget https://github.com/deepartist/DeepFaceLab-Tools/releases/download/v1.0.2/pretrained_models.zip\n",
        "  !mkdir -p /content/PSFR-GAN/pretrain_models\n",
        "  !7z e '/content/PSFR-GAN/pretrained_models.zip' -o'/content/PSFR-GAN/pretrain_models'\n",
        "  %cd /content\n",
        " \n",
        "  "
      ],
      "execution_count": null,
      "outputs": []
    },
    {
      "cell_type": "code",
      "metadata": {
        "id": "iykx7AvmD34M",
        "cellView": "form"
      },
      "source": [
        "#@title create custom upscale function\n",
        "\n",
        "upscaling_method = !cat /content/upscaling_method\n",
        "upscaling_method = upscaling_method[0]\n",
        "\n",
        "\n",
        "\n",
        "if upscaling_method is None or upscaling_method.strip() == \"\" or \"cat\" in upscaling_method: \n",
        "  raise ValueError(\"Run cell above, choose and install upscaling_method \")\n",
        "\n",
        "\n",
        "if upscaling_method == \"GPEN\":  \n",
        "\n",
        "  indir = '/content/GPEN/examples/imgs'\n",
        "  !mkdir -p $indir\n",
        "  outdir = '/content/GPEN/examples/outs'\n",
        "  !mkdir -p $outdir\n",
        "  \n",
        "  !echo $indir > /content/indir\n",
        "  \n",
        "  !echo $outdir > /content/outdir\n",
        "  \n",
        " \n",
        "  \n",
        "  def upscale(indir='examples/imgs', outdir= 'examples/outs', model={'name':'GPEN-512', 'size':512}, filetype='jpg'):\n",
        "    %cd /content/GPEN\n",
        "    !source /content/GPEN/__init__.py\n",
        "    from face_enhancement import FaceEnhancement\n",
        "    import tqdm \n",
        "    import glob \n",
        "    import cv2\n",
        "    import numpy as np\n",
        "    import os \n",
        "\n",
        "    \n",
        "\n",
        "    os.makedirs(outdir, exist_ok=True)\n",
        "\n",
        "    faceenhancer = FaceEnhancement(size=model['size'], model=model['name'], channel_multiplier=2)\n",
        "    \n",
        "    files = sorted(glob.glob(os.path.join(indir, '*.*g'))) #todo other filetype support\n",
        "    print(f\"Found {len(files)} files\")\n",
        "    for file in tqdm.tqdm(files[:]):\n",
        "        filename = os.path.basename(file)\n",
        "        \n",
        "        im = cv2.imread(file, cv2.IMREAD_COLOR) # BGR\n",
        "        if not isinstance(im, np.ndarray): print(filename, 'error'); continue\n",
        "        #im = cv2.resize(im, (0,0), fx=1, fy=1) #no rescale\n",
        "\n",
        "        img, orig_faces, enhanced_faces = faceenhancer.process(im)\n",
        "        save_filepath = os.path.join(outdir, '.'.join(filename.split('.')[:-1])+f\".{filetype}\")\n",
        "        try:\n",
        "          cv2.imwrite(save_filepath, img)\n",
        "        except Exception:\n",
        "          print(f\"Could not write file {save_filepath}\")\n",
        "  \n",
        "  def clear():\n",
        "    !rm -rf /content/GPEN/examples/imgs\n",
        "    !mkdir -p /content/GPEN/examples/imgs\n",
        "    !rm -rf /content/GPEN/examples/outs\n",
        "    !mkdir -p /content/GPEN/examples/outs\n",
        "    \n",
        "\n",
        "elif upscaling_method == \"GFPGAN\":\n",
        "  \n",
        "  indir = '/content/GFPGAN/inputs/uploads'\n",
        "  !mkdir -p $indir\n",
        "  outdir = '/content/GFPGAN/results/restored_imgs'\n",
        "  !mkdir -p $outdir\n",
        "\n",
        "  !echo $indir > /content/indir\n",
        "  !echo $outdir > /content/outdir\n",
        "\n",
        "  def upscale(indir='/content/GFPGAN/inputs/uploads', jpg_output=False):\n",
        "    %cd /content/GFPGAN/\n",
        "    import glob\n",
        "    from pathlib import Path\n",
        "    import os \n",
        "    import cv2\n",
        "\n",
        "    ext = glob.glob(f\"/{indir}/*\")[0].split(\".\")[-1]\n",
        "    if ext.lower() == \"jpg\":\n",
        "      jpg_output=True \n",
        "    else:\n",
        "      jpg_output=False\n",
        "\n",
        "    !python /content/GFPGAN/inference_gfpgan_full.py --model_path /content/GFPGAN/experiments/pretrained_models/GFPGANv1.pth --test_path $indir --paste_back \n",
        "    \n",
        "    if not jpg_output: return\n",
        "    files = sorted(glob.glob(f\"{outdir}/*png\"))\n",
        "    #print(files)\n",
        "    for f in files:\n",
        "      basename = Path(f).stem    \n",
        "      image = cv2.imread(f)\n",
        "\n",
        "      # Save .jpg image\n",
        "      save_path = os.path.join(Path(f).parent, (basename+\".jpg\"))\n",
        "      cv2.imwrite(save_path, image, [int(cv2.IMWRITE_JPEG_QUALITY), 100])\n",
        "      !rm $f\n",
        "\n",
        "  def clear():\n",
        "    !rm -rf '/content/GFPGAN/results/restored_imgs'\n",
        "    !mkdir -p '/content/GFPGAN/results/restored_imgs'\n",
        "    !rm -rf '/content/GFPGAN/inputs/uploads'\n",
        "    !mkdir -p '/content/GFPGAN/inputs/uploads'\n",
        "    \n",
        "\n",
        "elif upscaling_method == \"PSFR-GAN\":\n",
        "  \n",
        "  indir = '/content/inputs/uploads'\n",
        "  !mkdir -p $indir\n",
        "  outdir = '/content/test_unalign_results'\n",
        "  !mkdir -p $outdir\n",
        "\n",
        "  !echo $indir > /content/indir\n",
        "  !echo $outdir > /content/outdir\n",
        "\n",
        "  def upscale(indir='/content/inputs/uploads', outdir='/content/test_unalign_results', jpg_output=False):\n",
        "    import glob\n",
        "    from pathlib import Path\n",
        "    import os \n",
        "    import cv2\n",
        "    %cd /content/PSFR-GAN/\n",
        "    !python test_enhance_dir_unalign.py --src_dir $indir --results_dir $outdir\n",
        "    \n",
        "    # if not jpg_output: return\n",
        "    files = sorted(glob.glob(f\"{outdir}/*/\"))\n",
        "    \n",
        "    for f in files:\n",
        "      filename = Path(f).stem\n",
        "      if os.path.isdir(f):\n",
        "        !cp $f\"/hq_final.jpg\" $outdir\"/\"$filename\".jpg\"\n",
        "        !rm -rf $f\n",
        "\n",
        "  def clear():\n",
        "    !rm -rf '/content/inputs/uploads'\n",
        "    !mkdir -p '/content/inputs/uploads'\n",
        "    !rm -rf '/content/test_unalign_results'\n",
        "    !mkdir -p '/content/test_unalign_results'\n",
        "\n",
        "\n",
        "      "
      ],
      "execution_count": null,
      "outputs": []
    },
    {
      "cell_type": "markdown",
      "metadata": {
        "id": "h6KRnTDshAZu"
      },
      "source": [
        "# Upscale Process"
      ]
    },
    {
      "cell_type": "code",
      "metadata": {
        "id": "rvnnwzbdfQmI",
        "cellView": "form"
      },
      "source": [
        "#@title 0. Delete old example and result files\n",
        "clear()\n",
        "print(\"\\nDone!\")"
      ],
      "execution_count": null,
      "outputs": []
    },
    {
      "cell_type": "markdown",
      "metadata": {
        "id": "_P4bjqcshFye"
      },
      "source": [
        "## Upload files\n",
        "You can upload single or multiple files or your zip aligend folder or faceset.pak"
      ]
    },
    {
      "cell_type": "markdown",
      "metadata": {
        "id": "sg97aUQ9ijyf"
      },
      "source": [
        "### files and zipped aligned folder"
      ]
    },
    {
      "cell_type": "code",
      "metadata": {
        "id": "9pb1b_ZGmbsE",
        "cellView": "form"
      },
      "source": [
        "#@title 1a. Upload one or more images to upscale *OR* \n",
        "%cd $indir\n",
        "from google.colab import files\n",
        "uploaded = files.upload()\n",
        "print(\"\\nDone!\")"
      ],
      "execution_count": null,
      "outputs": []
    },
    {
      "cell_type": "code",
      "metadata": {
        "colab": {
          "background_save": true
        },
        "id": "deyCE3cXV15m",
        "cellView": "form"
      },
      "source": [
        "#@title 1b. Upload aligned.zip and extract to imgs *OR*\n",
        "%cd /content/\n",
        "!rm aligned.zip\n",
        "from google.colab import files\n",
        "uploaded = files.upload()\n",
        "%cd $indir\n",
        "!7z e '/content/aligned.zip' -o $indir\n",
        "print(\"\\nDone!\")"
      ],
      "execution_count": null,
      "outputs": []
    },
    {
      "cell_type": "code",
      "metadata": {
        "id": "xJxEYbyJI5iD",
        "cellView": "form"
      },
      "source": [
        "#@title 1c. copy aligned.zip from your drive and extract to imgs\n",
        "import os\n",
        "file_on_drive = \"/content/drive/MyDrive/aligned.zip\" #@param {type:\"string\"}\n",
        "%cd /content/\n",
        "!rm aligned.zip\n",
        "!rsync --info=progress2 $file_on_drive /content/\n",
        "!7z e '/content/aligned.zip' -o $indir\n",
        "print(\"\\nDone!\")"
      ],
      "execution_count": null,
      "outputs": []
    },
    {
      "cell_type": "markdown",
      "metadata": {
        "id": "NxivmxW9iaIn"
      },
      "source": [
        "### faceset.pak"
      ]
    },
    {
      "cell_type": "code",
      "metadata": {
        "id": "Lfqq_KuSKE2z",
        "cellView": "form"
      },
      "source": [
        "#@title 2b. Upload faceset.pak and extract to imgs *OR*\n",
        "%cd $indir\n",
        "!rm faceset.pak\n",
        "from google.colab import files\n",
        "uploaded = files.upload()\n",
        "%cd /content\n",
        "cmd = f\"DeepFaceLab/main.py util --input-dir {indir} --unpack-faceset\"\n",
        "!python $cmd\n",
        "print(\"Unpacking done!\")\n",
        "print(\"\\nDone!\")"
      ],
      "execution_count": null,
      "outputs": []
    },
    {
      "cell_type": "code",
      "metadata": {
        "id": "4AUGk_ewLJSt",
        "cellView": "form"
      },
      "source": [
        "#@title 2d. copy faceset.pak from your drive and extract to imgs\n",
        "import os\n",
        "\n",
        "file_on_drive = \"/content/drive/MyDrive/faceset.pak\" #@param {type:\"string\"}\n",
        "%cd /content/\n",
        "!rm faceset.pak\n",
        "!cp $file_on_drive $indir\n",
        "cmd = f\"DeepFaceLab/main.py util --input-dir {indir} --unpack-faceset\"\n",
        "!python $cmd\n",
        "print(f\"Unpacking done!\")\n",
        "print(\"\\nDone!\")"
      ],
      "execution_count": null,
      "outputs": []
    },
    {
      "cell_type": "markdown",
      "metadata": {
        "id": "h6c6--04hMz3"
      },
      "source": [
        "## Upscaling\n"
      ]
    },
    {
      "cell_type": "code",
      "metadata": {
        "id": "0f3N4a4eK-uV",
        "cellView": "form"
      },
      "source": [
        "#@title 3. Optional:Use DFL resize if original input faceset if too small\n",
        "%cd /content/\n",
        "cmd = f\"DeepFaceLab/main.py facesettool resize --input-dir {indir}\"\n",
        "!python $cmd"
      ],
      "execution_count": null,
      "outputs": []
    },
    {
      "cell_type": "code",
      "metadata": {
        "id": "qmghdN7ZzfjM",
        "cellView": "form"
      },
      "source": [
        "#@title 4. Save DFL metadata and Start upscaling and restore\n",
        "\n",
        "#@markdown Ignore errors if you dont use DFLIMG\n",
        "%cd /content/\n",
        "cmd = f\"DeepFaceLab/main.py util --input-dir {indir} --save-faceset-metadata\"\n",
        "!python $cmd\n",
        "!mv $indir\"/meta.dat\" $outdir\n",
        "print(\"Start upscaling\")\n",
        "upscale()\n",
        "print(\"Upscaling done\")\n",
        "%cd /content/\n",
        "cmd = f\"DeepFaceLab/main.py util --input-dir {outdir} --restore-faceset-metadata\"\n",
        "!python $cmd\n",
        "print(\"\\nDone!\")"
      ],
      "execution_count": null,
      "outputs": []
    },
    {
      "cell_type": "code",
      "metadata": {
        "cellView": "form",
        "id": "vylfCZp3A-uD"
      },
      "source": [
        "#@title 4. Optional:Use DFL resize on output dir\n",
        "%cd /content/\n",
        "cmd = f\"DeepFaceLab/main.py facesettool resize --input-dir {outdir}\"\n",
        "!python $cmd"
      ],
      "execution_count": null,
      "outputs": []
    },
    {
      "cell_type": "markdown",
      "metadata": {
        "id": "a5_Vger-hlK3"
      },
      "source": [
        "## Save your enhanced files"
      ]
    },
    {
      "cell_type": "markdown",
      "metadata": {
        "id": "uyEbiXDZiGOm"
      },
      "source": [
        "### Zips"
      ]
    },
    {
      "cell_type": "code",
      "metadata": {
        "id": "5DNNjT3clLJR",
        "cellView": "form"
      },
      "source": [
        "#@title 5a. Zip enhanced faces\n",
        "%rm /content/dfl_enhanced.zip\n",
        "%rm $outdir\"/faceset.pak\"\n",
        "!7z a -tzip /content/dfl_enhanced.zip -w $outdir\"/*\"\n",
        "print(\"\\nDone!\")"
      ],
      "execution_count": null,
      "outputs": []
    },
    {
      "cell_type": "code",
      "metadata": {
        "id": "nCo5K4xOlnBh",
        "cellView": "form"
      },
      "source": [
        "#@title 5b. Download dfl_enhanced.zip *OR*\n",
        "from google.colab import files\n",
        "files.download(\"/content/dfl_enhanced.zip\")\n",
        "print(\"\\nDone!\")"
      ],
      "execution_count": null,
      "outputs": []
    },
    {
      "cell_type": "code",
      "metadata": {
        "id": "JawWw15eLc3U",
        "cellView": "form"
      },
      "source": [
        "#@title 5c. Copy dfl_enhanced.zip to gdrive\n",
        "from google.colab import files\n",
        "folder_on_drive = \"/content/drive/MyDrive/\" #@param {type:\"string\"}\n",
        "!rsync -ah --info=progress2 /content/dfl_enhanced.zip  $folder_on_drive\n",
        "print(\"\\nDone!\")"
      ],
      "execution_count": null,
      "outputs": []
    },
    {
      "cell_type": "markdown",
      "metadata": {
        "id": "yK3LmpSIiLG_"
      },
      "source": [
        "### Faceset.pak"
      ]
    },
    {
      "cell_type": "code",
      "metadata": {
        "id": "oEGoVoJ_PVp_",
        "cellView": "form"
      },
      "source": [
        "#@title 6a. Repack to faceset.pak \n",
        "%cd /content\n",
        "import glob \n",
        "files = glob.glob(f\"{outdir}/*jpg\")\n",
        "if len(files) > 0:\n",
        "  %rm $outdir\"/faceset.pak\"\n",
        "  cmd = f\"DeepFaceLab/main.py util --input-dir {outdir} --pack-faceset\"\n",
        "  !python $cmd\n",
        "  !cp $outdir\"/faceset.pak\" /content/faceset.pak\n",
        "else: \n",
        "  print('No imgs found')\n"
      ],
      "execution_count": null,
      "outputs": []
    },
    {
      "cell_type": "code",
      "metadata": {
        "id": "7nCHAvBpQAsU",
        "cellView": "form"
      },
      "source": [
        "#@title 6b. Download faceset.pak *OR*\n",
        "from google.colab import files\n",
        "files.download(f\"{outdir}/faceset.pak\")\n",
        "print(\"\\nDone!\")"
      ],
      "execution_count": null,
      "outputs": []
    },
    {
      "cell_type": "code",
      "metadata": {
        "id": "U0DTGaO8PzlF",
        "cellView": "form"
      },
      "source": [
        "#@title 6c. Copy faceset.pak to gdrive\n",
        "from google.colab import files\n",
        "folder_on_drive = \"/content/drive/MyDrive/\" #@param {type:\"string\"}\n",
        "!rsync -ah --info=progress2 $outdir\"/faceset.pak\" $folder_on_drive\n",
        "print(\"\\nDone!\")"
      ],
      "execution_count": null,
      "outputs": []
    }
  ]
}
