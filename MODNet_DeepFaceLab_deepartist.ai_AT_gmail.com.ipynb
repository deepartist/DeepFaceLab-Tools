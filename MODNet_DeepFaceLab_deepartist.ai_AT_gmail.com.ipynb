{
  "nbformat": 4,
  "nbformat_minor": 0,
  "metadata": {
    "colab": {
      "name": "MODNet-DeepFaceLab_deepartist.ai@gmail.com.ipynb",
      "private_outputs": true,
      "provenance": [],
      "collapsed_sections": []
    },
    "kernelspec": {
      "name": "python3",
      "display_name": "Python 3"
    },
    "language_info": {
      "name": "python"
    },
    "accelerator": "GPU"
  },
  "cells": [
    {
      "cell_type": "markdown",
      "metadata": {
        "id": "view-in-github",
        "colab_type": "text"
      },
      "source": [
        "<a href=\"https://colab.research.google.com/github/deepartist/DeepFaceLab-Tools/blob/main/MODNet_DeepFaceLab_deepartist.ai_AT_gmail.com.ipynb\" target=\"_parent\"><img src=\"https://colab.research.google.com/assets/colab-badge.svg\" alt=\"Open In Colab\"/></a>"
      ]
    },
    {
      "cell_type": "markdown",
      "metadata": {
        "id": "7TLDy5mi1rid"
      },
      "source": [
        "# **MODNet  DeepFaceLab colab by Deepartist**\n",
        "Sources: \n",
        "\n",
        "* [Paper](https://arxiv.org/pdf/2011.11961.pdf)\n",
        "* [Code](https://github.com/ZHKKKe/MODNet)\n",
        "* [Colab](https://colab.research.google.com/drive/1Pt3KDSc2q7WxFvekCnCLD8P0gBEbxm6J?usp=sharing#scrollTo=he2gSkd1_Hab)\n",
        "\n",
        "Based on the upscaling Notebook of [Tendeepfake](mailto:tendeepfake@gmail.com\n",
        ")\n",
        "## *There is no need for colab pro to use it.*\n",
        "\n",
        "[Contact me: deepartist](mailto:deepartist.ai@gmail.com)"
      ]
    },
    {
      "cell_type": "markdown",
      "metadata": {
        "id": "EIslFaZkvu_f"
      },
      "source": [
        "\n",
        "\n",
        "---\n",
        "\n"
      ]
    },
    {
      "cell_type": "markdown",
      "metadata": {
        "id": "P0sb1Ng6mGch"
      },
      "source": [
        "# Install"
      ]
    },
    {
      "cell_type": "code",
      "metadata": {
        "id": "Q-Mn4xJsOqdL",
        "cellView": "form"
      },
      "source": [
        "#@title Check if you have loaded GPU\n",
        "gpu = !nvidia-smi -L\n",
        "gpu= gpu[0]\n",
        "gpu_mem = !nvidia-smi --query-gpu=memory.total --format=csv\n",
        "gpu_mem = gpu_mem[1]\n",
        "gpu_mem_free = !nvidia-smi --query-gpu=memory.free --format=csv\n",
        "gpu_mem_free = gpu_mem_free[1]\n",
        "cores = !grep -c ^processor /proc/cpuinfo\n",
        "cores = cores[0]\n",
        "mhz = !grep \"^[c]pu MHz\" /proc/cpuinfo\n",
        "mhz = mhz[0].split(\":\")[-1]\n",
        "!echo \"$gpu\"\n",
        "!echo Total Memory: \"$gpu_mem\" Free: \"$gpu_mem_free\"\n",
        "!echo CPU: \"$cores\" cores @\"$mhz\" MHz"
      ],
      "execution_count": null,
      "outputs": []
    },
    {
      "cell_type": "markdown",
      "metadata": {
        "id": "IRFCT4eYcMXr"
      },
      "source": [
        "**Mount your Google drive with auth key**\n",
        "\n",
        "1. Connect to your google drive to be able to import and export files to/from google drive\n",
        "2. Click on Link below\n",
        "3. Login and confirm\n",
        "4. Ctrl+V auth key and hit return key\n",
        "\n",
        "**OR mount your Google drive permantly**\n",
        "\n",
        "1. Create new notebook\n",
        "2. Change runtime to GPU\n",
        "3. Click on files, and mount your google drive permantly \n",
        "4. Click in first cell\n",
        "5. Select all cells with shift+down\n",
        "6. Copy all cells from this notebook\n",
        "7. No more auth token coyping\n",
        "\n",
        "**OR SIMPLY SKIP** if you dont want import and export files to/from google drive"
      ]
    },
    {
      "cell_type": "code",
      "metadata": {
        "id": "O2Dlj_TnVLFs",
        "cellView": "form"
      },
      "source": [
        "#@title Connect to your gdrive OR permantly mount it\n",
        "\n",
        "from google.colab import drive\n",
        "drive.mount('/content/drive')"
      ],
      "execution_count": null,
      "outputs": []
    },
    {
      "cell_type": "code",
      "metadata": {
        "id": "aml4kb1ZHSPK",
        "cellView": "form"
      },
      "source": [
        "#@title Clone DFL Git and install needed dependencies\n",
        "!git clone https://github.com/iperov/DeepFaceLab.git /content/DeepFaceLab\n",
        "!pip install colorama\n",
        "print(\"\\nDone\")"
      ],
      "execution_count": null,
      "outputs": []
    },
    {
      "cell_type": "code",
      "metadata": {
        "id": "RRJhu6qnmh_1",
        "cellView": "form"
      },
      "source": [
        "#@title Install all dependencies and download weights from org repo\n",
        "\n",
        "import os\n",
        "%cd /content\n",
        "if not os.path.exists('MODNet'):\n",
        "  !git clone https://github.com/ZHKKKe/MODNet\n",
        "%cd /content/MODNet/\n",
        "#!pip install -r demo/video_matting/custom/requirements.txt\n",
        "\n",
        "pretrained_ckpt = 'pretrained/modnet_photographic_portrait_matting.ckpt'\n",
        "if not os.path.exists(pretrained_ckpt):\n",
        "  !wget https://github.com/deepartist/DeepFaceLab-Tools/releases/download/v1.0.3/modnet_photographic_portrait_matting.ckpt \n",
        "  !mkdir pretrained\n",
        "  !mv modnet_photographic_portrait_matting.ckpt pretrained/modnet_photographic_portrait_matting.ckpt\n",
        "\n",
        "#!python -c \"import sys; sys.path.append('/content/MODNet/src'); sys.path.append('/content/MODNet')\"\n"
      ],
      "execution_count": null,
      "outputs": []
    },
    {
      "cell_type": "code",
      "metadata": {
        "id": "iykx7AvmD34M",
        "cellView": "form"
      },
      "source": [
        "#@title create custom matting function\n",
        "\n",
        "def do_matting(indir='/content/inputs/uploads', outdir='/content/no_bg', color=(0,171,57), jpg_output=False):\n",
        "  import glob\n",
        "  from pathlib import Path\n",
        "  import os \n",
        "  import cv2\n",
        "\n",
        "\n",
        "  %cd /content/MODNet\n",
        "\n",
        "  !python -m demo.image_matting.colab.inference \\\n",
        "      --input-path $indir \\\n",
        "      --output-path '/content/matte' \\\n",
        "      --ckpt-path ./pretrained/modnet_photographic_portrait_matting.ckpt\n",
        "\n",
        "  from PIL import Image\n",
        "  import numpy as np\n",
        "  from tqdm import tqdm\n",
        "  image_names = sorted(os.listdir(indir))\n",
        "  for image_name in tqdm(image_names):\n",
        "    basename = Path(image_name).stem\n",
        "    matte_name = basename+ '.png'\n",
        "    image = Image.open(os.path.join(indir, image_name))\n",
        "    matte = Image.open(os.path.join('/content/matte', matte_name))\n",
        "    no_bg_img_path = os.path.join(outdir, image_name)\n",
        "\n",
        "    # obtain predicted foreground\n",
        "    image = np.asarray(image)\n",
        "    if len(image.shape) == 2:\n",
        "      image = image[:, :, None]\n",
        "    if image.shape[2] == 1:\n",
        "      image = np.repeat(image, 3, axis=2)\n",
        "    elif image.shape[2] == 4:\n",
        "      image = image[:, :, 0:3]\n",
        "    matte = np.repeat(np.asarray(matte)[:, :, None], 3, axis=2) / 255\n",
        "    \n",
        "    foreground = image * matte + np.full(image.shape, color) * (1 - matte)\n",
        "    foreground_img = Image.fromarray(np.uint8(foreground))\n",
        "    foreground_img.save(no_bg_img_path)\n",
        "    \n",
        "      "
      ],
      "execution_count": null,
      "outputs": []
    },
    {
      "cell_type": "markdown",
      "metadata": {
        "id": "h6KRnTDshAZu"
      },
      "source": [
        "# Matting Process"
      ]
    },
    {
      "cell_type": "code",
      "metadata": {
        "id": "rvnnwzbdfQmI",
        "cellView": "form"
      },
      "source": [
        "#@title 0. Delete old example and result files\n",
        "!rm -rf cd /content/inputs/uploads\n",
        "!mkdir -p /content/inputs/uploads\n",
        "!rm -rf /content/matte\n",
        "!mkdir -p /content/matte\n",
        "!rm -rf  /content/no_bg/\n",
        "!mkdir -p  /content/no_bg/\n",
        "\n",
        "!rm -rf /content/matte.zip\n",
        "!rm -rf /content/dfl_images.zip\n",
        "\n",
        "print(\"\\nDone!\")"
      ],
      "execution_count": null,
      "outputs": []
    },
    {
      "cell_type": "markdown",
      "metadata": {
        "id": "_P4bjqcshFye"
      },
      "source": [
        "## Upload files\n",
        "You can upload single or multiple files or your zip aligend folder or faceset.pak"
      ]
    },
    {
      "cell_type": "markdown",
      "metadata": {
        "id": "sg97aUQ9ijyf"
      },
      "source": [
        "### files and zipped aligned folder"
      ]
    },
    {
      "cell_type": "code",
      "metadata": {
        "id": "9pb1b_ZGmbsE",
        "cellView": "form"
      },
      "source": [
        "#@title 1a. Upload one or more (DFL).jpg files to mat *OR* \n",
        "%cd /content/inputs/uploads\n",
        "from google.colab import files\n",
        "uploaded = files.upload()\n",
        "%cd /content/\n",
        "print(\"\\nDone!\")"
      ],
      "execution_count": null,
      "outputs": []
    },
    {
      "cell_type": "code",
      "metadata": {
        "colab": {
          "background_save": true
        },
        "id": "deyCE3cXV15m",
        "cellView": "form"
      },
      "source": [
        "#@title 1b. Upload aligned.zip and extract to imgs *OR*\n",
        "%cd /content/\n",
        "!rm aligned.zip\n",
        "from google.colab import files\n",
        "uploaded = files.upload()\n",
        "%cd /content/\n",
        "!7z e '/content/aligned.zip' -o'/content/inputs/uploads'\n",
        "print(\"\\nDone!\")"
      ],
      "execution_count": null,
      "outputs": []
    },
    {
      "cell_type": "code",
      "metadata": {
        "id": "xJxEYbyJI5iD",
        "cellView": "form"
      },
      "source": [
        "#@title 1c. copy aligned.zip from your drive and extract to imgs\n",
        "import os\n",
        "\n",
        "file_on_drive = \"/content/drive/MyDrive/aligned.zip\" #@param {type:\"string\"}\n",
        "%cd /content/\n",
        "!rm aligned.zip\n",
        "!cp $file_on_drive /content/\n",
        "!7z e '/content/aligned.zip' -o'//content/inputs/uploads'\n",
        "print(\"\\nDone!\")"
      ],
      "execution_count": null,
      "outputs": []
    },
    {
      "cell_type": "markdown",
      "metadata": {
        "id": "NxivmxW9iaIn"
      },
      "source": [
        "### faceset.pak"
      ]
    },
    {
      "cell_type": "code",
      "metadata": {
        "id": "Lfqq_KuSKE2z",
        "cellView": "form"
      },
      "source": [
        "#@title 2b. Upload faceset.pak and extract to imgs *OR*\n",
        "%cd /content/inputs/uploads\n",
        "!rm faceset.pak\n",
        "from google.colab import files\n",
        "uploaded = files.upload()\n",
        "%cd /content\n",
        "cmd = \"DeepFaceLab/main.py util --input-dir /content/inputs/uploads --unpack-faceset\"\n",
        "!python $cmd\n",
        "print(f\"Unpacking done!\")\n",
        "print(\"\\nDone!\")"
      ],
      "execution_count": null,
      "outputs": []
    },
    {
      "cell_type": "code",
      "metadata": {
        "id": "4AUGk_ewLJSt",
        "cellView": "form"
      },
      "source": [
        "#@title 2d. copy faceset.pak from your drive and extract to imgs\n",
        "import os\n",
        "\n",
        "file_on_drive = \"/content/drive/MyDrive/faceset.pak\" #@param {type:\"string\"}\n",
        "%cd /content/\n",
        "!rm faceset.pak\n",
        "!cp $file_on_drive /content/inputs/uploads\n",
        "cmd = \"DeepFaceLab/main.py util --input-dir /content/inputs/uploads --unpack-faceset\"\n",
        "!python $cmd\n",
        "print(f\"Unpacking done!\")\n",
        "print(\"\\nDone!\")"
      ],
      "execution_count": null,
      "outputs": []
    },
    {
      "cell_type": "markdown",
      "metadata": {
        "id": "h6c6--04hMz3"
      },
      "source": [
        "## Matting "
      ]
    },
    {
      "cell_type": "code",
      "metadata": {
        "id": "0f3N4a4eK-uV",
        "cellView": "form"
      },
      "source": [
        "#@title 3. Optional Resize if original faceset if too small (<256) Matting works best with 512x512\n",
        "%cd /content/\n",
        "cmd = \"DeepFaceLab/main.py facesettool resize --input-dir /content/inputs/uploads\"\n",
        "!python $cmd"
      ],
      "execution_count": null,
      "outputs": []
    },
    {
      "cell_type": "code",
      "metadata": {
        "id": "qmghdN7ZzfjM",
        "cellView": "form"
      },
      "source": [
        "#@title 4. Save DFL metadata and start matting and restore\n",
        "background_color = \"green\" #@param [\"green\", \"red\", \"blue\", \"white\", \"black\"]\n",
        "color_dict ={'green': (0,171,57), 'blue': (46,0,139), 'red': (234, 29, 40), 'black': (0,0,0), 'white':(255,255,255)}\n",
        "\n",
        "#@markdown Use custom color code\n",
        "custom_color_code = False #@param {type:\"boolean\"}\n",
        "custom_color_code_red = 46 #@param {type:\"slider\", min:0, max:255, step:1}\n",
        "custom_color_code_green = 113 #@param {type:\"slider\", min:0, max:255, step:1}\n",
        "custom_color_code_blue = 209 #@param {type:\"slider\", min:0, max:255, step:1}\n",
        "if custom_color_code:\n",
        "  color = (custom_color_code_red, custom_color_code_green, custom_color_code_blue)\n",
        "else:\n",
        "  color = color_dict[background_color]\n",
        "\n",
        "#@markdown Ignore errors if you dont use DFLIMG\n",
        "%cd /content/\n",
        "import glob\n",
        "from pathlib import Path\n",
        "cmd = \"DeepFaceLab/main.py util --input-dir /content/inputs/uploads --save-faceset-metadata\"\n",
        "!python $cmd\n",
        "ext = glob.glob(\"/content/inputs/uploads/*\")[0].split(\".\")[-1]\n",
        "if ext.lower() is not \"jpg\":\n",
        "  jpg_output=False\n",
        "  print(\"Keeping original file format\")\n",
        "else:\n",
        "  jpg_output=True\n",
        "!mv /content/inputs/uploads/meta.dat /content/no_bg\n",
        "print(\"Start matting\")\n",
        "do_matting(color=color, jpg_output=jpg_output)\n",
        "print(\"Matting done\")\n",
        "%cd /content/\n",
        "\n",
        "cmd = \"DeepFaceLab/main.py util --input-dir /content/no_bg --restore-faceset-metadata\"\n",
        "!python $cmd\n",
        "print(\"\\nDone!\")"
      ],
      "execution_count": null,
      "outputs": []
    },
    {
      "cell_type": "markdown",
      "metadata": {
        "id": "a5_Vger-hlK3"
      },
      "source": [
        "## Save your files"
      ]
    },
    {
      "cell_type": "markdown",
      "metadata": {
        "id": "s7RlL3GgHTXl"
      },
      "source": [
        "###Images with removed Backgrounds"
      ]
    },
    {
      "cell_type": "markdown",
      "metadata": {
        "id": "uyEbiXDZiGOm"
      },
      "source": [
        "#### Zips"
      ]
    },
    {
      "cell_type": "code",
      "metadata": {
        "id": "5DNNjT3clLJR",
        "cellView": "form"
      },
      "source": [
        "#@title 5a. Zip images faces\n",
        "%rm /content/dfl_images.zip\n",
        "%rm /content/no_bg/faceset.pak\n",
        "!7z a -tzip /content/dfl_images.zip -w /content/no_bg/*\n",
        "print(\"\\nDone!\")"
      ],
      "execution_count": null,
      "outputs": []
    },
    {
      "cell_type": "code",
      "metadata": {
        "id": "nCo5K4xOlnBh",
        "cellView": "form"
      },
      "source": [
        "#@title 5b. Download dfl_enhanced.zip *OR*\n",
        "from google.colab import files\n",
        "files.download(\"/content/dfl_enhanced.zip\")\n",
        "print(\"\\nDone!\")"
      ],
      "execution_count": null,
      "outputs": []
    },
    {
      "cell_type": "code",
      "metadata": {
        "id": "JawWw15eLc3U",
        "cellView": "form"
      },
      "source": [
        "#@title 5c. Copy dfl_enhanced.zip to gdrive\n",
        "from google.colab import files\n",
        "folder_on_drive = \"/content/drive/MyDrive/\" #@param {type:\"string\"}\n",
        "\n",
        "!cp -f /content/dfl_images.zip $folder_on_drive\n",
        "print(\"\\nDone!\")"
      ],
      "execution_count": null,
      "outputs": []
    },
    {
      "cell_type": "markdown",
      "metadata": {
        "id": "yK3LmpSIiLG_"
      },
      "source": [
        "#### Faceset.pak"
      ]
    },
    {
      "cell_type": "code",
      "metadata": {
        "id": "oEGoVoJ_PVp_",
        "cellView": "form"
      },
      "source": [
        "#@title 6a. Repack to faceset.pak \n",
        "%cd /content\n",
        "import glob \n",
        "files = glob.glob(\"/content/no_bg/*jpg\")\n",
        "if len(files) > 0:\n",
        "  %rm /content/no_bg/faceset.pak\n",
        "  cmd = \"DeepFaceLab/main.py util --input-dir /content/no_bg --pack-faceset\"\n",
        "  !python $cmd\n",
        "  !cp /content/no_bg/faceset.pak /content/faceset.pak\n",
        "else: \n",
        "  print('No imgs found')\n"
      ],
      "execution_count": null,
      "outputs": []
    },
    {
      "cell_type": "code",
      "metadata": {
        "id": "7nCHAvBpQAsU",
        "cellView": "form"
      },
      "source": [
        "#@title 6b. Download faceset.pak *OR*\n",
        "from google.colab import files\n",
        "files.download(\"/content/no_bg/faceset.pak\")\n",
        "print(\"\\nDone!\")"
      ],
      "execution_count": null,
      "outputs": []
    },
    {
      "cell_type": "code",
      "metadata": {
        "id": "U0DTGaO8PzlF",
        "cellView": "form"
      },
      "source": [
        "#@title 6c. Copy faceset.pak to gdrive\n",
        "from google.colab import files\n",
        "folder_on_drive = \"/content/drive/MyDrive/\" #@param {type:\"string\"}\n",
        "!cp -f /content/no_bg/faceset.pak $folder_on_drive\n",
        "print(\"\\nDone!\")"
      ],
      "execution_count": null,
      "outputs": []
    },
    {
      "cell_type": "markdown",
      "metadata": {
        "id": "zmgXGqBpHpUl"
      },
      "source": [
        "### Matte"
      ]
    },
    {
      "cell_type": "code",
      "metadata": {
        "id": "4BQxlcB3HwfF",
        "cellView": "form"
      },
      "source": [
        "#@title 7a. Zip mattte files \n",
        "%rm /content/matte.zip\n",
        "!7z a -tzip /content/matte.zip -w /content/matte/*\n",
        "print(\"\\nDone!\")"
      ],
      "execution_count": null,
      "outputs": []
    },
    {
      "cell_type": "code",
      "metadata": {
        "id": "-wtdRST3H4el",
        "cellView": "form"
      },
      "source": [
        "#@title 7b. Download matte.zip *OR*\n",
        "from google.colab import files\n",
        "files.download(\"/content/matte.zip\")\n",
        "print(\"\\nDone!\")"
      ],
      "execution_count": null,
      "outputs": []
    },
    {
      "cell_type": "code",
      "metadata": {
        "id": "N51Bw0wIH4el",
        "cellView": "form"
      },
      "source": [
        "#@title 7c. Copy matte.zip to gdrive\n",
        "from google.colab import files\n",
        "folder_on_drive = \"/content/drive/MyDrive/\" #@param {type:\"string\"}\n",
        "!cp -f /content/matte.zip $folder_on_drive\n",
        "print(\"\\nDone!\")"
      ],
      "execution_count": null,
      "outputs": []
    }
  ]
}
